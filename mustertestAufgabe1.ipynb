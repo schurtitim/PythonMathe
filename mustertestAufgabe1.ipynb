{
 "cells": [
  {
   "cell_type": "code",
   "execution_count": 1,
   "metadata": {},
   "outputs": [
    {
     "name": "stdout",
     "output_type": "stream",
     "text": [
      "n=0: rekursiv=0, explizit=0\n",
      "n=1: rekursiv=1, explizit=1\n",
      "n=2: rekursiv=3, explizit=3\n",
      "n=3: rekursiv=7, explizit=7\n",
      "n=4: rekursiv=15, explizit=15\n",
      "n=5: rekursiv=31, explizit=31\n"
     ]
    }
   ],
   "source": [
    "def q_rekursiv(n):\n",
    "    if n == 0:\n",
    "        return 0\n",
    "    else:\n",
    "        return q_rekursiv(n-1) + 2**(n-1)\n",
    "\n",
    "def q_explizit(n):\n",
    "    return 2**n - 1\n",
    "\n",
    "# Beispiel: Werte für n = 0 bis 5\n",
    "for n in range(6):\n",
    "    print(f\"n={n}: rekursiv={q_rekursiv(n)}, explizit={q_explizit(n)}\")"
   ]
  }
 ],
 "metadata": {
  "kernelspec": {
   "display_name": "Python 3",
   "language": "python",
   "name": "python3"
  },
  "language_info": {
   "codemirror_mode": {
    "name": "ipython",
    "version": 3
   },
   "file_extension": ".py",
   "mimetype": "text/x-python",
   "name": "python",
   "nbconvert_exporter": "python",
   "pygments_lexer": "ipython3",
   "version": "3.11.0"
  }
 },
 "nbformat": 4,
 "nbformat_minor": 2
}
