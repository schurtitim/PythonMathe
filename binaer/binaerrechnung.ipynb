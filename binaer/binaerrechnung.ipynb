{
 "cells": [
  {
   "cell_type": "code",
   "execution_count": 4,
   "metadata": {},
   "outputs": [
    {
     "name": "stdout",
     "output_type": "stream",
     "text": [
      "111010111110\n"
     ]
    }
   ],
   "source": [
    "def binaere_arithmetik(bin_zahl1: str, bin_zahl2: str, operator: str) -> str:\n",
    "    \"\"\"\n",
    "    Führt arithmetische Grundoperationen mit zwei binären Zahlen durch.\n",
    "\n",
    "    Args:\n",
    "        bin_zahl1: Die erste binäre Zahl als String.\n",
    "        bin_zahl2: Die zweite binäre Zahl als String.\n",
    "        operator: Der auszuführende Operator ('+', '-', '*', '/').\n",
    "\n",
    "    Returns:\n",
    "        Das Ergebnis der Operation als binärer String.\n",
    "        Gibt eine Fehlermeldung zurück, wenn ein ungültiger Operator\n",
    "        oder eine Division durch Null versucht wird.\n",
    "    \"\"\"\n",
    "    try:\n",
    "        # Schritt 1: Konvertiere die binären Strings in Integer\n",
    "        dez_zahl1 = int(bin_zahl1, 2)\n",
    "        dez_zahl2 = int(bin_zahl2, 2)\n",
    "\n",
    "        ergebnis_dez = 0\n",
    "\n",
    "        # Schritt 2: Führe die entsprechende arithmetische Operation durch\n",
    "        if operator == '+':\n",
    "            ergebnis_dez = dez_zahl1 + dez_zahl2\n",
    "        elif operator == '-':\n",
    "            ergebnis_dez = dez_zahl1 - dez_zahl2\n",
    "        elif operator == '*':\n",
    "            ergebnis_dez = dez_zahl1 * dez_zahl2\n",
    "        elif operator == '/':\n",
    "            # Ganzzahlige Division für ein klares Ergebnis\n",
    "            if dez_zahl2 == 0:\n",
    "                return \"Fehler: Division durch Null ist nicht erlaubt.\"\n",
    "            ergebnis_dez = dez_zahl1 // dez_zahl2\n",
    "        else:\n",
    "            return f\"Fehler: Unbekannter Operator '{operator}'.\"\n",
    "\n",
    "        # Schritt 3 & 4: Konvertiere das Ergebnis zurück in einen binären String\n",
    "        # und entferne das '0b' Präfix.\n",
    "        # Behandle den Fall, dass das Ergebnis negativ ist.\n",
    "        if ergebnis_dez < 0:\n",
    "            # Füge ein Minuszeichen vor das Ergebnis und konvertiere den Betrag\n",
    "            return '-' + bin(abs(ergebnis_dez))[2:]\n",
    "        else:\n",
    "            return bin(ergebnis_dez)[2:]\n",
    "\n",
    "    except ValueError:\n",
    "        return \"Fehler: Ungültige binäre Eingabe.\"\n",
    "    except Exception as e:\n",
    "        return f\"Ein unerwarteter Fehler ist aufgetreten: {e}\"\n",
    "\n",
    "    # Beispiel\n",
    "\n",
    "res = binaere_arithmetik('0100101', '01100110', '*')\n",
    "\n",
    "print(res)"
   ]
  }
 ],
 "metadata": {
  "kernelspec": {
   "display_name": "Python 3",
   "language": "python",
   "name": "python3"
  },
  "language_info": {
   "codemirror_mode": {
    "name": "ipython",
    "version": 3
   },
   "file_extension": ".py",
   "mimetype": "text/x-python",
   "name": "python",
   "nbconvert_exporter": "python",
   "pygments_lexer": "ipython3",
   "version": "3.11.0"
  }
 },
 "nbformat": 4,
 "nbformat_minor": 2
}
