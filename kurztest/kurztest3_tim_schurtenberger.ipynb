{
 "cells": [
  {
   "cell_type": "code",
   "execution_count": 1,
   "id": "ce1a7e24",
   "metadata": {},
   "outputs": [
    {
     "name": "stdout",
     "output_type": "stream",
     "text": [
      "Requirement already satisfied: sympy in c:\\python311\\lib\\site-packages (1.14.0)\n",
      "Requirement already satisfied: mpmath<1.4,>=1.1.0 in c:\\python311\\lib\\site-packages (from sympy) (1.3.0)\n",
      "Note: you may need to restart the kernel to use updated packages.\n"
     ]
    },
    {
     "name": "stderr",
     "output_type": "stream",
     "text": [
      "\n",
      "[notice] A new release of pip available: 22.3 -> 25.1\n",
      "[notice] To update, run: python.exe -m pip install --upgrade pip\n"
     ]
    }
   ],
   "source": [
    "%pip install sympy"
   ]
  },
  {
   "cell_type": "code",
   "execution_count": 2,
   "id": "1e3c2c0f",
   "metadata": {},
   "outputs": [],
   "source": [
    "from sympy import symbols, integrate, exp, log, init_printing, solve\n",
    "from IPython.display import display\n",
    "init_printing(use_latex='mathjax')\n",
    "x = symbols('x')"
   ]
  },
  {
   "cell_type": "markdown",
   "id": "cb910031",
   "metadata": {},
   "source": [
    "## Aufgabe 1.1: f(x) = x⁵ + 6x³ + 17"
   ]
  },
  {
   "cell_type": "code",
   "execution_count": 3,
   "id": "57d994af",
   "metadata": {},
   "outputs": [
    {
     "name": "stdout",
     "output_type": "stream",
     "text": [
      "f(x):\n"
     ]
    },
    {
     "data": {
      "text/latex": [
       "$\\displaystyle x^{5} + 6 x^{3} + 17$"
      ],
      "text/plain": [
       " 5      3     \n",
       "x  + 6⋅x  + 17"
      ]
     },
     "metadata": {},
     "output_type": "display_data"
    },
    {
     "name": "stdout",
     "output_type": "stream",
     "text": [
      "Stammfunktion F(x):\n"
     ]
    },
    {
     "data": {
      "text/latex": [
       "$\\displaystyle \\frac{x^{6}}{6} + \\frac{3 x^{4}}{2} + 17 x$"
      ],
      "text/plain": [
       " 6      4       \n",
       "x    3⋅x        \n",
       "── + ──── + 17⋅x\n",
       "6     2         "
      ]
     },
     "metadata": {},
     "output_type": "display_data"
    }
   ],
   "source": [
    "f = x**5 + 6*x**3 + 17\n",
    "F = integrate(f, x)\n",
    "\n",
    "print(\"f(x):\")\n",
    "display(f)\n",
    "print(\"Stammfunktion F(x):\")\n",
    "display(F)"
   ]
  },
  {
   "cell_type": "markdown",
   "id": "2aa0e413",
   "metadata": {},
   "source": [
    "## Aufgabe 1.2: g(x) = eˣ + e³ˣ"
   ]
  },
  {
   "cell_type": "code",
   "execution_count": 4,
   "id": "865976ef",
   "metadata": {},
   "outputs": [
    {
     "name": "stdout",
     "output_type": "stream",
     "text": [
      "g(x):\n"
     ]
    },
    {
     "data": {
      "text/latex": [
       "$\\displaystyle e^{3 x} + e^{x}$"
      ],
      "text/plain": [
       " 3⋅x    x\n",
       "ℯ    + ℯ "
      ]
     },
     "metadata": {},
     "output_type": "display_data"
    },
    {
     "name": "stdout",
     "output_type": "stream",
     "text": [
      "Stammfunktion G(x):\n"
     ]
    },
    {
     "data": {
      "text/latex": [
       "$\\displaystyle \\frac{e^{3 x}}{3} + e^{x}$"
      ],
      "text/plain": [
       " 3⋅x     \n",
       "ℯ       x\n",
       "──── + ℯ \n",
       " 3       "
      ]
     },
     "metadata": {},
     "output_type": "display_data"
    }
   ],
   "source": [
    "g = exp(x) + exp(3*x)\n",
    "G = integrate(g, x)\n",
    "\n",
    "print(\"g(x):\")\n",
    "display(g)\n",
    "print(\"Stammfunktion G(x):\")\n",
    "display(G)"
   ]
  },
  {
   "cell_type": "markdown",
   "id": "6a8044fa",
   "metadata": {},
   "source": [
    "#  Aufgabe 1.3: h(x) = ln(7x + 5)"
   ]
  },
  {
   "cell_type": "code",
   "execution_count": 5,
   "id": "9e8eef85",
   "metadata": {},
   "outputs": [
    {
     "name": "stdout",
     "output_type": "stream",
     "text": [
      "h(x):\n"
     ]
    },
    {
     "data": {
      "text/latex": [
       "$\\displaystyle \\log{\\left(7 x + 5 \\right)}$"
      ],
      "text/plain": [
       "log(7⋅x + 5)"
      ]
     },
     "metadata": {},
     "output_type": "display_data"
    },
    {
     "name": "stdout",
     "output_type": "stream",
     "text": [
      "Stammfunktion H(x):\n"
     ]
    },
    {
     "data": {
      "text/latex": [
       "$\\displaystyle x \\log{\\left(7 x + 5 \\right)} - x + \\frac{5 \\log{\\left(7 x + 5 \\right)}}{7}$"
      ],
      "text/plain": [
       "                     5⋅log(7⋅x + 5)\n",
       "x⋅log(7⋅x + 5) - x + ──────────────\n",
       "                           7       "
      ]
     },
     "metadata": {},
     "output_type": "display_data"
    }
   ],
   "source": [
    "h = log(7*x + 5)\n",
    "H = integrate(h, x)\n",
    "\n",
    "print(\"h(x):\")\n",
    "display(h)\n",
    "print(\"Stammfunktion H(x):\")\n",
    "display(H)"
   ]
  },
  {
   "cell_type": "markdown",
   "id": "5a262859",
   "metadata": {},
   "source": [
    "## Aufgabe 2: "
   ]
  },
  {
   "cell_type": "code",
   "execution_count": 6,
   "id": "bac1ff67",
   "metadata": {},
   "outputs": [
    {
     "name": "stdout",
     "output_type": "stream",
     "text": [
      "Schnittpunkte bei x = [0, 3]\n",
      "Der eingeschlossene Flächeninhalt beträgt 9/2 Flächeneinheiten.\n"
     ]
    }
   ],
   "source": [
    "parabel = 4*x - x**2\n",
    "gerade = x\n",
    "schnittpunkte = solve(parabel - gerade, x)\n",
    "print(f\"Schnittpunkte bei x = {schnittpunkte}\")\n",
    "differenz = parabel - gerade\n",
    "fläche = integrate(differenz, (x, schnittpunkte[0], schnittpunkte[1]))\n",
    "print(f\"Der eingeschlossene Flächeninhalt beträgt {fläche} Flächeneinheiten.\")"
   ]
  }
 ],
 "metadata": {
  "kernelspec": {
   "display_name": "Python 3",
   "language": "python",
   "name": "python3"
  },
  "language_info": {
   "codemirror_mode": {
    "name": "ipython",
    "version": 3
   },
   "file_extension": ".py",
   "mimetype": "text/x-python",
   "name": "python",
   "nbconvert_exporter": "python",
   "pygments_lexer": "ipython3",
   "version": "3.11.0"
  }
 },
 "nbformat": 4,
 "nbformat_minor": 5
}
