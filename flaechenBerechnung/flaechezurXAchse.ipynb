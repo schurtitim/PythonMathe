{
 "cells": [
  {
   "cell_type": "code",
   "execution_count": 1,
   "metadata": {},
   "outputs": [
    {
     "name": "stdout",
     "output_type": "stream",
     "text": [
      "==================================================\n",
      "                 Lösung für Aufgabe 1\n",
      "==================================================\n",
      "Die Funktion schneidet die x-Achse bei [-2, 2].\n",
      "Die Integrationsgrenzen sind daher von x = -2 bis x = 2.\n",
      "\n",
      "--- ERGEBNIS ---\n",
      "Der Flächeninhalt beträgt: 10.67 (Exakt: 32/3)\n"
     ]
    }
   ],
   "source": [
    "import sympy as sp\n",
    "\n",
    "def flaeche_zur_x_achse(funktion, variable):\n",
    "    \"\"\"\n",
    "    Berechnet den von einer Funktion und der x-Achse eingeschlossenen Flächeninhalt.\n",
    "    \"\"\"\n",
    "    # 1. Nullstellen finden, um die Integrationsgrenzen zu bestimmen\n",
    "    nullstellen = sp.solve(funktion, variable)\n",
    "    nullstellen.sort()\n",
    "    \n",
    "    if len(nullstellen) < 2:\n",
    "        print(\"Die Funktion schliesst keine endliche Fläche mit der x-Achse ein.\")\n",
    "        return None\n",
    "        \n",
    "    von_x, bis_x = nullstellen[0], nullstellen[-1]\n",
    "    \n",
    "    print(f\"Die Funktion schneidet die x-Achse bei {nullstellen}.\")\n",
    "    print(f\"Die Integrationsgrenzen sind daher von x = {von_x} bis x = {bis_x}.\")\n",
    "    \n",
    "    # 2. Bestimmtes Integral berechnen\n",
    "    # sp.Abs() stellt sicher, dass auch Flächen unter der x-Achse positiv gezählt werden.\n",
    "    flaeche = sp.integrate(sp.Abs(funktion), (variable, von_x, bis_x))\n",
    "    \n",
    "    return flaeche\n",
    "\n",
    "# --- Anwendung auf Aufgabe 1 ---\n",
    "if __name__ == \"__main__\":\n",
    "    print(\"=\"*50)\n",
    "    print(\"                 Lösung für Aufgabe 1\")\n",
    "    print(\"=\"*50)\n",
    "    \n",
    "    x = sp.Symbol('x')\n",
    "    f1 = 4 - x**2\n",
    "    \n",
    "    ergebnis_flaeche = flaeche_zur_x_achse(f1, x)\n",
    "    \n",
    "    if ergebnis_flaeche is not None:\n",
    "        print(\"\\n--- ERGEBNIS ---\")\n",
    "        print(f\"Der Flächeninhalt beträgt: {ergebnis_flaeche.evalf(4)} (Exakt: {ergebnis_flaeche})\")"
   ]
  }
 ],
 "metadata": {
  "kernelspec": {
   "display_name": "Python 3",
   "language": "python",
   "name": "python3"
  },
  "language_info": {
   "codemirror_mode": {
    "name": "ipython",
    "version": 3
   },
   "file_extension": ".py",
   "mimetype": "text/x-python",
   "name": "python",
   "nbconvert_exporter": "python",
   "pygments_lexer": "ipython3",
   "version": "3.11.0"
  }
 },
 "nbformat": 4,
 "nbformat_minor": 2
}
