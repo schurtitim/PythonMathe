{
 "cells": [
  {
   "cell_type": "code",
   "execution_count": 1,
   "metadata": {},
   "outputs": [
    {
     "name": "stdout",
     "output_type": "stream",
     "text": [
      "--- Abwandlung 2: Bruch zu periodischer Dezimalzahl ---\n",
      "Der Bruch 3/7 entspricht der Dezimalzahl: 0.(428571)\n",
      "\n",
      "Der Bruch 5/12 entspricht der Dezimalzahl: 0.41(6)\n",
      "\n",
      "Der Bruch 1/8 entspricht der Dezimalzahl: 0.125\n",
      "\n"
     ]
    }
   ],
   "source": [
    "import sympy as sp\n",
    "from decimal import Decimal, getcontext\n",
    "\n",
    "# Setzt die Präzision für die Dezimalberechnung (wichtig für Abwandlung 2)\n",
    "getcontext().prec = 100 \n",
    "\n",
    "def bruch_zu_dezimaldarstellung(zaehler: int, nenner: int):\n",
    "    \"\"\"\n",
    "    ABWANDLUNG 2: Wandelt einen Bruch in seine (potenziell periodische)\n",
    "    Dezimaldarstellung um.\n",
    "    \"\"\"\n",
    "    if nenner == 0:\n",
    "        return \"Fehler: Division durch Null.\"\n",
    "\n",
    "    # Ganzer Teil und erster Rest\n",
    "    ganzer_teil = zaehler // nenner\n",
    "    rest = zaehler % nenner\n",
    "    \n",
    "    dezimal_teil_str = \"\"\n",
    "    reste_gesehen = {} # Speichert {rest: position}\n",
    "\n",
    "    while rest != 0 and rest not in reste_gesehen:\n",
    "        # Merke dir die Position, an der der aktuelle Rest zum ersten Mal auftrat\n",
    "        reste_gesehen[rest] = len(dezimal_teil_str)\n",
    "        \n",
    "        # Nächste Ziffer berechnen (wie bei schriftlicher Division)\n",
    "        rest *= 10\n",
    "        ziffer = rest // nenner\n",
    "        dezimal_teil_str += str(ziffer)\n",
    "        \n",
    "        # Neuen Rest berechnen\n",
    "        rest %= nenner\n",
    "\n",
    "    # Fall 1: Rest ist 0 -> Die Dezimalzahl bricht ab.\n",
    "    if rest == 0:\n",
    "        if not dezimal_teil_str:\n",
    "            return f\"{ganzer_teil}\" # Es ist eine ganze Zahl\n",
    "        return f\"{ganzer_teil}.{dezimal_teil_str}\"\n",
    "    \n",
    "    # Fall 2: Rest wurde schon gesehen -> Periode gefunden.\n",
    "    else:\n",
    "        start_der_periode_pos = reste_gesehen[rest]\n",
    "        nicht_periodischer_teil = dezimal_teil_str[:start_der_periode_pos]\n",
    "        periodischer_teil = dezimal_teil_str[start_der_periode_pos:]\n",
    "        \n",
    "        return f\"{ganzer_teil}.{nicht_periodischer_teil}({periodischer_teil})\"\n",
    "\n",
    "        \n",
    "\n",
    "if __name__ == \"__main__\":\n",
    "\n",
    "    print(\"--- Abwandlung 2: Bruch zu periodischer Dezimalzahl ---\")\n",
    "    z, n = 3, 7\n",
    "    ergebnis2 = bruch_zu_dezimaldarstellung(z, n)\n",
    "    print(f\"Der Bruch {z}/{n} entspricht der Dezimalzahl: {ergebnis2}\\n\")\n",
    "\n",
    "    z2, n2 = 5, 12\n",
    "    ergebnis2_2 = bruch_zu_dezimaldarstellung(z2, n2)\n",
    "    print(f\"Der Bruch {z2}/{n2} entspricht der Dezimalzahl: {ergebnis2_2}\\n\")\n",
    "    \n",
    "    z3, n3 = 1, 8\n",
    "    ergebnis2_3 = bruch_zu_dezimaldarstellung(z3, n3)\n",
    "    print(f\"Der Bruch {z3}/{n3} entspricht der Dezimalzahl: {ergebnis2_3}\\n\")"
   ]
  }
 ],
 "metadata": {
  "kernelspec": {
   "display_name": "Python 3",
   "language": "python",
   "name": "python3"
  },
  "language_info": {
   "codemirror_mode": {
    "name": "ipython",
    "version": 3
   },
   "file_extension": ".py",
   "mimetype": "text/x-python",
   "name": "python",
   "nbconvert_exporter": "python",
   "pygments_lexer": "ipython3",
   "version": "3.11.0"
  }
 },
 "nbformat": 4,
 "nbformat_minor": 2
}
