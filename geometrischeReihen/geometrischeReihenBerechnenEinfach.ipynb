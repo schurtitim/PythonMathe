{
 "cells": [
  {
   "cell_type": "code",
   "execution_count": 1,
   "metadata": {},
   "outputs": [
    {
     "name": "stdout",
     "output_type": "stream",
     "text": [
      "--- Aufgabe a ---\n",
      "Die Reihe 0.1 + 0.01 + ... entspricht 0. periode(1)\n",
      "Der exakte Bruch ist: 1/9\n",
      "\n",
      "--- Aufgabe b ---\n",
      "Die Reihe 0.9 + 0.09 + ... entspricht 0. periode(9)\n",
      "Der exakte Bruch ist: 1\n",
      "Interpretation: Die unendliche Summe der 9er-Dezimalstellen konvergiert exakt gegen 1.\n",
      "\n",
      "--- Aufgabe c ---\n",
      "Die Reihe 0.57 + 0.0057 + ... entspricht 0. periode(57)\n",
      "Der exakte Bruch in der Form m/n ist: 19/33\n"
     ]
    }
   ],
   "source": [
    "import sympy as sp\n",
    "\n",
    "def periodische_reihe_zu_bruch(periode_str: str):\n",
    "    \"\"\"\n",
    "    Wandelt eine rein periodische Dezimalzahl (z.B. 0.575757...)\n",
    "    in einen exakten, gekürzten Bruch um.\n",
    "\n",
    "    Args:\n",
    "        periode_str (str): Der sich wiederholende Ziffernblock als String (z.B. \"57\").\n",
    "\n",
    "    Returns:\n",
    "        sp.Rational: Ein SymPy-Bruchobjekt, das den exakten Wert darstellt.\n",
    "    \"\"\"\n",
    "    try:\n",
    "        # Der Zähler ist der Wert der Periode als ganze Zahl.\n",
    "        zaehler = int(periode_str)\n",
    "        \n",
    "        # Die Anzahl der Ziffern in der Periode.\n",
    "        anzahl_ziffern = len(periode_str)\n",
    "        \n",
    "        # Der Nenner ist immer eine Folge von 9ern, entsprechend der Länge der Periode.\n",
    "        # (z.B. für \"57\" (Länge 2) ist der Nenner 10^2 - 1 = 99)\n",
    "        nenner = 10**anzahl_ziffern - 1\n",
    "        \n",
    "        # SymPy's Rational erstellt einen exakten, automatisch gekürzten Bruch.\n",
    "        bruch = sp.Rational(zaehler, nenner)\n",
    "        \n",
    "        return bruch\n",
    "\n",
    "    except (ValueError, TypeError):\n",
    "        return \"Fehler: Bitte geben Sie die Periode als String aus Ziffern an.\"\n",
    "\n",
    "# =============================================================\n",
    "# --- LÖSUNG IHRER AUFGABEN MIT DER FUNKTION ---\n",
    "# =============================================================\n",
    "if __name__ == \"__main__\":\n",
    "\n",
    "    # --- Aufgabe a: 0.1 + 0.01 + ... ---\n",
    "    # Das ist der periodische Dezimalbruch 0.11111... oder 0,periode(1)\n",
    "    print(\"--- Aufgabe a ---\")\n",
    "    periode_a = \"1\"\n",
    "    bruch_a = periodische_reihe_zu_bruch(periode_a)\n",
    "    print(f\"Die Reihe 0.1 + 0.01 + ... entspricht 0. periode({periode_a})\")\n",
    "    print(f\"Der exakte Bruch ist: {bruch_a}\\n\")\n",
    "\n",
    "    # --- Aufgabe b: 0.9 + 0.09 + ... ---\n",
    "    # Das ist der periodische Dezimalbruch 0.99999... oder 0,periode(9)\n",
    "    print(\"--- Aufgabe b ---\")\n",
    "    periode_b = \"9\"\n",
    "    bruch_b = periodische_reihe_zu_bruch(periode_b)\n",
    "    print(f\"Die Reihe 0.9 + 0.09 + ... entspricht 0. periode({periode_b})\")\n",
    "    print(f\"Der exakte Bruch ist: {bruch_b}\")\n",
    "    print(\"Interpretation: Die unendliche Summe der 9er-Dezimalstellen konvergiert exakt gegen 1.\\n\")\n",
    "\n",
    "    # --- Aufgabe c: 0.57 + 0.0057 + ... ---\n",
    "    # Das ist der periodische Dezimalbruch 0.575757... oder 0,periode(57)\n",
    "    print(\"--- Aufgabe c ---\")\n",
    "    periode_c = \"57\"\n",
    "    bruch_c = periodische_reihe_zu_bruch(periode_c)\n",
    "    print(f\"Die Reihe 0.57 + 0.0057 + ... entspricht 0. periode({periode_c})\")\n",
    "    print(f\"Der exakte Bruch in der Form m/n ist: {bruch_c}\")"
   ]
  }
 ],
 "metadata": {
  "kernelspec": {
   "display_name": "Python 3",
   "language": "python",
   "name": "python3"
  },
  "language_info": {
   "codemirror_mode": {
    "name": "ipython",
    "version": 3
   },
   "file_extension": ".py",
   "mimetype": "text/x-python",
   "name": "python",
   "nbconvert_exporter": "python",
   "pygments_lexer": "ipython3",
   "version": "3.11.0"
  }
 },
 "nbformat": 4,
 "nbformat_minor": 2
}
