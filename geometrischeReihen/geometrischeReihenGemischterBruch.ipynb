{
 "cells": [
  {
   "cell_type": "code",
   "execution_count": 1,
   "metadata": {},
   "outputs": [
    {
     "name": "stdout",
     "output_type": "stream",
     "text": [
      "--- Abwandlung 1: Gemischt-periodische Zahl zu Bruch ---\n",
      "Die Zahl 0.41(6) entspricht dem Bruch: 5/12\n",
      "\n",
      "Die Zahl 0.12(57) entspricht dem Bruch: 83/660\n",
      "\n"
     ]
    }
   ],
   "source": [
    "import sympy as sp\n",
    "from decimal import Decimal, getcontext\n",
    "\n",
    "# Setzt die Präzision für die Dezimalberechnung (wichtig für Abwandlung 2)\n",
    "getcontext().prec = 100 \n",
    "\n",
    "def gemischt_periodisch_zu_bruch(nicht_periodisch_str: str, periode_str: str):\n",
    "    \"\"\"\n",
    "    ABWANDLUNG 1: Wandelt eine gemischt-periodische Dezimalzahl \n",
    "    (z.B. 0.41666...) in einen exakten, gekürzten Bruch um.\n",
    "\n",
    "    Args:\n",
    "        nicht_periodisch_str (str): Der nicht-periodische Teil nach dem Komma (z.B. \"41\").\n",
    "        periode_str (str): Der sich wiederholende Ziffernblock (z.B. \"6\").\n",
    "    \"\"\"\n",
    "    # Teil 1: Der nicht-periodische Anteil als Bruch\n",
    "    if nicht_periodisch_str:\n",
    "        len_np = len(nicht_periodisch_str)\n",
    "        val_np = int(nicht_periodisch_str)\n",
    "        nicht_periodischer_bruch = sp.Rational(val_np, 10**len_np)\n",
    "    else:\n",
    "        nicht_periodischer_bruch = sp.S(0)\n",
    "        len_np = 0\n",
    "\n",
    "    # Teil 2: Der periodische Anteil, korrekt verschoben\n",
    "    len_p = len(periode_str)\n",
    "    val_p = int(periode_str)\n",
    "    \n",
    "    # Der Wert der reinen Periode (z.B. 0.666... = 6/9)\n",
    "    reine_periode_bruch = sp.Rational(val_p, 10**len_p - 1)\n",
    "    \n",
    "    # Verschiebung um die Länge des nicht-periodischen Teils\n",
    "    verschiebungsfaktor = sp.Rational(1, 10**len_np)\n",
    "    \n",
    "    periodischer_bruch_verschoben = verschiebungsfaktor * reine_periode_bruch\n",
    "    \n",
    "    # Beide Teile addieren. SymPy kürzt automatisch.\n",
    "    gesamter_bruch = nicht_periodischer_bruch + periodischer_bruch_verschoben\n",
    "    \n",
    "    return gesamter_bruch\n",
    "\n",
    "\n",
    "if __name__ == \"__main__\":\n",
    "    \n",
    "    print(\"--- Abwandlung 1: Gemischt-periodische Zahl zu Bruch ---\")\n",
    "    np_teil = \"41\"\n",
    "    p_teil = \"6\"\n",
    "    ergebnis1 = gemischt_periodisch_zu_bruch(np_teil, p_teil)\n",
    "    print(f\"Die Zahl 0.{np_teil}({p_teil}) entspricht dem Bruch: {ergebnis1}\\n\") # Erwartet: 5/12\n",
    "\n",
    "    np_teil_2 = \"12\"\n",
    "    p_teil_2 = \"57\"\n",
    "    ergebnis1_2 = gemischt_periodisch_zu_bruch(np_teil_2, p_teil_2)\n",
    "    print(f\"Die Zahl 0.{np_teil_2}({p_teil_2}) entspricht dem Bruch: {ergebnis1_2}\\n\") # Erwartet: 1245/9900 -> 83/660\n",
    " "
   ]
  }
 ],
 "metadata": {
  "kernelspec": {
   "display_name": "Python 3",
   "language": "python",
   "name": "python3"
  },
  "language_info": {
   "codemirror_mode": {
    "name": "ipython",
    "version": 3
   },
   "file_extension": ".py",
   "mimetype": "text/x-python",
   "name": "python",
   "nbconvert_exporter": "python",
   "pygments_lexer": "ipython3",
   "version": "3.11.0"
  }
 },
 "nbformat": 4,
 "nbformat_minor": 2
}
