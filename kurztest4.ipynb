{
 "cells": [
  {
   "cell_type": "markdown",
   "metadata": {},
   "source": [
    "# Aufgabe 1"
   ]
  },
  {
   "cell_type": "code",
   "execution_count": 15,
   "metadata": {},
   "outputs": [
    {
     "name": "stdout",
     "output_type": "stream",
     "text": [
      "x0 = 1.0\n",
      "x1 = 1.3333333333333333\n",
      "x2 = 1.2638888888888888\n"
     ]
    }
   ],
   "source": [
    "def f(x):\n",
    "    return x**3 - 2\n",
    "\n",
    "def df(x):\n",
    "    return 3 * x**2\n",
    "\n",
    "# Startwert\n",
    "x0 = 1.0\n",
    "\n",
    "# Erste Iteration\n",
    "x1 = x0 - f(x0) / df(x0)\n",
    "\n",
    "# Zweite Iteration\n",
    "x2 = x1 - f(x1) / df(x1)\n",
    "\n",
    "# Ausgabe der Ergebnisse\n",
    "print(f\"x0 = {x0}\")\n",
    "print(f\"x1 = {x1}\")\n",
    "print(f\"x2 = {x2}\")\n"
   ]
  },
  {
   "cell_type": "markdown",
   "metadata": {},
   "source": [
    "# Aufgabe 2"
   ]
  },
  {
   "cell_type": "code",
   "execution_count": 16,
   "metadata": {},
   "outputs": [
    {
     "name": "stdout",
     "output_type": "stream",
     "text": [
      "Länge: 4.0000 m\n",
      "Breite : 2.0000 m\n",
      "Zaunlänge: 8.0000 m\n"
     ]
    }
   ],
   "source": [
    "from scipy.optimize import minimize_scalar\n",
    "\n",
    "def zaunlaenge(x):\n",
    "    return x + 2 * (8 / x)\n",
    "\n",
    "res = minimize_scalar(zaunlaenge, bounds=(0.1, 10), method='bounded')\n",
    "\n",
    "x_opt = res.x\n",
    "y_opt = 8 / x_opt\n",
    "zaun_opt = zaunlaenge(x_opt)\n",
    "\n",
    "print(f\"Länge: {x_opt:.4f} m\")\n",
    "print(f\"Breite : {y_opt:.4f} m\")\n",
    "print(f\"Zaunlänge: {zaun_opt:.4f} m\")"
   ]
  },
  {
   "cell_type": "markdown",
   "metadata": {},
   "source": [
    "# Aufgabe 3"
   ]
  },
  {
   "cell_type": "code",
   "execution_count": 17,
   "metadata": {},
   "outputs": [
    {
     "name": "stdout",
     "output_type": "stream",
     "text": [
      "Taylorreihe von f(x) = x * e^x:\n",
      " 4    3         \n",
      "x    x     2    \n",
      "── + ── + x  + x\n",
      "6    2          \n",
      "\n",
      "Taylorreihe von F(x) = ∫f(x) dx:\n",
      " 5    4    3    2    \n",
      "x    x    x    x     \n",
      "── + ── + ── + ── - 1\n",
      "30   8    3    2     \n"
     ]
    }
   ],
   "source": [
    "import sympy as sp\n",
    "x = sp.Symbol('x')\n",
    "f = x * sp.exp(x)\n",
    "\n",
    "taylor_f = f.series(x, 0, 5).removeO()\n",
    "\n",
    "F = sp.integrate(f)\n",
    "taylor_F = F.series(x, 0, 6).removeO()  \n",
    "\n",
    "print(\"Taylorreihe von f(x)=x⋅e^x:\")\n",
    "sp.pprint(taylor_f)\n",
    "\n",
    "print(\"\\nTaylorreihe von F(x)=inff(x)dx:\")\n",
    "sp.pprint(taylor_F)\n"
   ]
  }
 ],
 "metadata": {
  "kernelspec": {
   "display_name": "Python 3",
   "language": "python",
   "name": "python3"
  },
  "language_info": {
   "codemirror_mode": {
    "name": "ipython",
    "version": 3
   },
   "file_extension": ".py",
   "mimetype": "text/x-python",
   "name": "python",
   "nbconvert_exporter": "python",
   "pygments_lexer": "ipython3",
   "version": "3.11.0"
  }
 },
 "nbformat": 4,
 "nbformat_minor": 2
}
