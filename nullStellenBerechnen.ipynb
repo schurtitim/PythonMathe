{
 "cells": [
  {
   "cell_type": "code",
   "execution_count": 1,
   "metadata": {},
   "outputs": [
    {
     "name": "stdout",
     "output_type": "stream",
     "text": [
      "==================================================\n",
      "  Nullstellen-Rechner für beliebige Funktionen\n",
      "==================================================\n",
      "Geben Sie eine Funktion mit der Variable 'x' ein.\n",
      "Verwenden Sie Python-Syntax (z.B. x**2 für x², * für Multiplikation).\n",
      "Geben Sie 'exit' oder 'quit' ein, um das Programm zu beenden.\n",
      "\n"
     ]
    },
    {
     "ename": "TypeError",
     "evalue": "'Add' object is not callable",
     "output_type": "error",
     "traceback": [
      "\u001b[31m---------------------------------------------------------------------------\u001b[39m",
      "\u001b[31mValueError\u001b[39m                                Traceback (most recent call last)",
      "\u001b[31mValueError\u001b[39m: Error from parse_expr with transformed code: '(x -Integer (1 ))(x +Integer (1 ))(x +Integer (2 ))'",
      "\nThe above exception was the direct cause of the following exception:\n",
      "\u001b[31mTypeError\u001b[39m                                 Traceback (most recent call last)",
      "\u001b[36mCell\u001b[39m\u001b[36m \u001b[39m\u001b[32mIn[1]\u001b[39m\u001b[32m, line 75\u001b[39m\n\u001b[32m     71\u001b[39m     \u001b[38;5;28;01mbreak\u001b[39;00m\n\u001b[32m     73\u001b[39m \u001b[38;5;28;01mtry\u001b[39;00m:\n\u001b[32m     74\u001b[39m     \u001b[38;5;66;03m# Konvertiere die Texteingabe des Benutzers sicher in einen SymPy-Ausdruck\u001b[39;00m\n\u001b[32m---> \u001b[39m\u001b[32m75\u001b[39m     funktion = \u001b[43msp\u001b[49m\u001b[43m.\u001b[49m\u001b[43msympify\u001b[49m\u001b[43m(\u001b[49m\u001b[43muser_input\u001b[49m\u001b[43m,\u001b[49m\u001b[43m \u001b[49m\u001b[38;5;28;43mlocals\u001b[39;49m\u001b[43m=\u001b[49m\u001b[43m{\u001b[49m\u001b[33;43m'\u001b[39;49m\u001b[33;43mx\u001b[39;49m\u001b[33;43m'\u001b[39;49m\u001b[43m:\u001b[49m\u001b[43m \u001b[49m\u001b[43mx\u001b[49m\u001b[43m}\u001b[49m\u001b[43m)\u001b[49m\n\u001b[32m     76\u001b[39m     finde_nullstellen(funktion, x)\n\u001b[32m     78\u001b[39m \u001b[38;5;28;01mexcept\u001b[39;00m (SympifyError, \u001b[38;5;167;01mSyntaxError\u001b[39;00m):\n",
      "\u001b[36mFile \u001b[39m\u001b[32mc:\\Python311\\Lib\\site-packages\\sympy\\core\\sympify.py:507\u001b[39m, in \u001b[36msympify\u001b[39m\u001b[34m(a, locals, convert_xor, strict, rational, evaluate)\u001b[39m\n\u001b[32m    505\u001b[39m \u001b[38;5;28;01mtry\u001b[39;00m:\n\u001b[32m    506\u001b[39m     a = a.replace(\u001b[33m'\u001b[39m\u001b[38;5;130;01m\\n\u001b[39;00m\u001b[33m'\u001b[39m, \u001b[33m'\u001b[39m\u001b[33m'\u001b[39m)\n\u001b[32m--> \u001b[39m\u001b[32m507\u001b[39m     expr = \u001b[43mparse_expr\u001b[49m\u001b[43m(\u001b[49m\u001b[43ma\u001b[49m\u001b[43m,\u001b[49m\u001b[43m \u001b[49m\u001b[43mlocal_dict\u001b[49m\u001b[43m=\u001b[49m\u001b[38;5;28;43mlocals\u001b[39;49m\u001b[43m,\u001b[49m\u001b[43m \u001b[49m\u001b[43mtransformations\u001b[49m\u001b[43m=\u001b[49m\u001b[43mtransformations\u001b[49m\u001b[43m,\u001b[49m\u001b[43m \u001b[49m\u001b[43mevaluate\u001b[49m\u001b[43m=\u001b[49m\u001b[43mevaluate\u001b[49m\u001b[43m)\u001b[49m\n\u001b[32m    508\u001b[39m \u001b[38;5;28;01mexcept\u001b[39;00m (TokenError, \u001b[38;5;167;01mSyntaxError\u001b[39;00m) \u001b[38;5;28;01mas\u001b[39;00m exc:\n\u001b[32m    509\u001b[39m     \u001b[38;5;28;01mraise\u001b[39;00m SympifyError(\u001b[33m'\u001b[39m\u001b[33mcould not parse \u001b[39m\u001b[38;5;132;01m%r\u001b[39;00m\u001b[33m'\u001b[39m % a, exc)\n",
      "\u001b[36mFile \u001b[39m\u001b[32mc:\\Python311\\Lib\\site-packages\\sympy\\parsing\\sympy_parser.py:1090\u001b[39m, in \u001b[36mparse_expr\u001b[39m\u001b[34m(s, local_dict, transformations, global_dict, evaluate)\u001b[39m\n\u001b[32m   1088\u001b[39m \u001b[38;5;28;01mfor\u001b[39;00m i \u001b[38;5;129;01min\u001b[39;00m local_dict.pop(null, ()):\n\u001b[32m   1089\u001b[39m     local_dict[i] = null\n\u001b[32m-> \u001b[39m\u001b[32m1090\u001b[39m \u001b[38;5;28;01mraise\u001b[39;00m e \u001b[38;5;28;01mfrom\u001b[39;00m\u001b[38;5;250m \u001b[39m\u001b[34;01mValueError\u001b[39;00m(\u001b[33mf\u001b[39m\u001b[33m\"\u001b[39m\u001b[33mError from parse_expr with transformed code: \u001b[39m\u001b[38;5;132;01m{\u001b[39;00mcode\u001b[38;5;132;01m!r}\u001b[39;00m\u001b[33m\"\u001b[39m)\n",
      "\u001b[36mFile \u001b[39m\u001b[32mc:\\Python311\\Lib\\site-packages\\sympy\\parsing\\sympy_parser.py:1081\u001b[39m, in \u001b[36mparse_expr\u001b[39m\u001b[34m(s, local_dict, transformations, global_dict, evaluate)\u001b[39m\n\u001b[32m   1078\u001b[39m     code = \u001b[38;5;28mcompile\u001b[39m(evaluateFalse(code), \u001b[33m'\u001b[39m\u001b[33m<string>\u001b[39m\u001b[33m'\u001b[39m, \u001b[33m'\u001b[39m\u001b[33meval\u001b[39m\u001b[33m'\u001b[39m) \u001b[38;5;66;03m# type: ignore\u001b[39;00m\n\u001b[32m   1080\u001b[39m \u001b[38;5;28;01mtry\u001b[39;00m:\n\u001b[32m-> \u001b[39m\u001b[32m1081\u001b[39m     rv = \u001b[43meval_expr\u001b[49m\u001b[43m(\u001b[49m\u001b[43mcode\u001b[49m\u001b[43m,\u001b[49m\u001b[43m \u001b[49m\u001b[43mlocal_dict\u001b[49m\u001b[43m,\u001b[49m\u001b[43m \u001b[49m\u001b[43mglobal_dict\u001b[49m\u001b[43m)\u001b[49m\n\u001b[32m   1082\u001b[39m     \u001b[38;5;66;03m# restore neutral definitions for names\u001b[39;00m\n\u001b[32m   1083\u001b[39m     \u001b[38;5;28;01mfor\u001b[39;00m i \u001b[38;5;129;01min\u001b[39;00m local_dict.pop(null, ()):\n",
      "\u001b[36mFile \u001b[39m\u001b[32mc:\\Python311\\Lib\\site-packages\\sympy\\parsing\\sympy_parser.py:905\u001b[39m, in \u001b[36meval_expr\u001b[39m\u001b[34m(code, local_dict, global_dict)\u001b[39m\n\u001b[32m    899\u001b[39m \u001b[38;5;28;01mdef\u001b[39;00m\u001b[38;5;250m \u001b[39m\u001b[34meval_expr\u001b[39m(code, local_dict: DICT, global_dict: DICT):\n\u001b[32m    900\u001b[39m \u001b[38;5;250m    \u001b[39m\u001b[33;03m\"\"\"\u001b[39;00m\n\u001b[32m    901\u001b[39m \u001b[33;03m    Evaluate Python code generated by ``stringify_expr``.\u001b[39;00m\n\u001b[32m    902\u001b[39m \n\u001b[32m    903\u001b[39m \u001b[33;03m    Generally, ``parse_expr`` should be used.\u001b[39;00m\n\u001b[32m    904\u001b[39m \u001b[33;03m    \"\"\"\u001b[39;00m\n\u001b[32m--> \u001b[39m\u001b[32m905\u001b[39m     expr = \u001b[38;5;28;43meval\u001b[39;49m\u001b[43m(\u001b[49m\n\u001b[32m    906\u001b[39m \u001b[43m        \u001b[49m\u001b[43mcode\u001b[49m\u001b[43m,\u001b[49m\u001b[43m \u001b[49m\u001b[43mglobal_dict\u001b[49m\u001b[43m,\u001b[49m\u001b[43m \u001b[49m\u001b[43mlocal_dict\u001b[49m\u001b[43m)\u001b[49m  \u001b[38;5;66;03m# take local objects in preference\u001b[39;00m\n\u001b[32m    907\u001b[39m     \u001b[38;5;28;01mreturn\u001b[39;00m expr\n",
      "\u001b[36mFile \u001b[39m\u001b[32m<string>:1\u001b[39m\n",
      "\u001b[31mTypeError\u001b[39m: 'Add' object is not callable"
     ]
    }
   ],
   "source": [
    "import sympy as sp\n",
    "\n",
    "def finde_nullstellen(funktion_ausdruck, variable):\n",
    "    \"\"\"\n",
    "    Findet und zeigt die reellen Nullstellen eines gegebenen Funktionsausdrucks an.\n",
    "    Diese Funktion ist unverändert und bildet das Herzstück des Programms.\n",
    "    \"\"\"\n",
    "    print(\"-\" * 50)\n",
    "    print(\"Analysiere Funktion:\")\n",
    "    sp.pretty_print(funktion_ausdruck)\n",
    "    \n",
    "    try:\n",
    "        # Löse die Gleichung funktion_ausdruck = 0 im Bereich der reellen Zahlen.\n",
    "        nullstellen = sp.solveset(funktion_ausdruck, variable, domain=sp.Reals)\n",
    "\n",
    "        print(\"\\n--- ERGEBNIS ---\")\n",
    "        \n",
    "        # Prüfe, welche Art von Ergebnis wir erhalten haben\n",
    "        if isinstance(nullstellen, sp.EmptySet):\n",
    "            print(\"Es wurden keine reellen Nullstellen gefunden.\")\n",
    "        \n",
    "        elif isinstance(nullstellen, sp.FiniteSet):\n",
    "            # Eine endliche Anzahl von Lösungen wurde gefunden\n",
    "            print(\"Gefundene reelle Nullstellen:\")\n",
    "            sp.pretty_print(list(nullstellen))\n",
    "            \n",
    "        else:\n",
    "            # Eine unendliche Lösungsmenge (z.B. bei sin(x))\n",
    "            print(\"Die Funktion hat unendlich viele reelle Nullstellen.\")\n",
    "            print(\"Die Lösungsmenge lautet:\")\n",
    "            sp.pretty_print(nullstellen)\n",
    "\n",
    "    except Exception as e:\n",
    "        print(f\"\\nEin Fehler ist aufgetreten: {e}\")\n",
    "    \n",
    "    print(\"-\" * 50 + \"\\n\")\n",
    "\n",
    "\n",
    "# --- Hauptteil des Programms (ohne Benutzereingabe) ---\n",
    "if __name__ == \"__main__\":\n",
    "    # Definiere die Variable, die in den Funktionen verwendet wird.\n",
    "    x = sp.Symbol('x')\n",
    "\n",
    "    # --- HIER DEFINIEREN SIE DIE ZU TESTENDEN FUNKTIONEN ---\n",
    "    # Fügen Sie Ihre eigenen Funktionen einfach zu dieser Liste hinzu.\n",
    "    # Verwenden Sie Python/SymPy-Syntax.\n",
    "    funktionen_liste = [\n",
    "        x**2 - 9,                        # Polynom mit einfachen Lösungen\n",
    "        (x - 1) * (x + 1) * (x + 2),     # Ihre ursprüngliche Funktion\n",
    "        x**2 + 5,                        # Polynom ohne reelle Nullstellen\n",
    "        sp.cos(x),                       # Funktion mit unendlich vielen Nullstellen\n",
    "        sp.exp(x) - 1                    # Exponentialfunktion\n",
    "    ]\n",
    "\n",
    "    print(\"=\"*50)\n",
    "    print(\"  Statischer Nullstellen-Rechner\")\n",
    "    print(\"=\"*50 + \"\\n\")\n",
    "\n",
    "    # Schleife durch die vordefinierte Liste und analysiere jede Funktion.\n",
    "    for funktion in funktionen_liste:\n",
    "        finde_nullstellen(funktion, x)"
   ]
  }
 ],
 "metadata": {
  "kernelspec": {
   "display_name": "Python 3",
   "language": "python",
   "name": "python3"
  },
  "language_info": {
   "codemirror_mode": {
    "name": "ipython",
    "version": 3
   },
   "file_extension": ".py",
   "mimetype": "text/x-python",
   "name": "python",
   "nbconvert_exporter": "python",
   "pygments_lexer": "ipython3",
   "version": "3.11.0"
  }
 },
 "nbformat": 4,
 "nbformat_minor": 2
}
