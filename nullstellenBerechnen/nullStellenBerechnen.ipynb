{
 "cells": [
  {
   "cell_type": "code",
   "execution_count": 4,
   "metadata": {},
   "outputs": [
    {
     "name": "stdout",
     "output_type": "stream",
     "text": [
      "==================================================\n",
      "  Statischer Nullstellen-Rechner (Korrigierte Version)\n",
      "==================================================\n",
      "\n",
      "--------------------------------------------------\n",
      "Analysiere Funktion:\n",
      "   2        \n",
      "- x  - x + 2\n",
      "\n",
      "--- ERGEBNIS ---\n",
      "Gefundene reelle Nullstellen:\n",
      "[-2, 1]\n",
      "--------------------------------------------------\n",
      "\n"
     ]
    }
   ],
   "source": [
    "import sympy as sp\n",
    "\n",
    "def finde_nullstellen(funktion_ausdruck, variable):\n",
    "    \"\"\"\n",
    "    Findet und zeigt die reellen Nullstellen eines gegebenen Funktionsausdrucks an.\n",
    "    DIES IST DIE KORRIGIERTE VERSION.\n",
    "    \"\"\"\n",
    "    print(\"-\" * 50)\n",
    "    print(\"Analysiere Funktion:\")\n",
    "    sp.pretty_print(funktion_ausdruck)\n",
    "    \n",
    "    try:\n",
    "        # Löse die Gleichung funktion_ausdruck = 0 im Bereich der reellen Zahlen.\n",
    "        nullstellen = sp.solveset(funktion_ausdruck, variable, domain=sp.Reals)\n",
    "\n",
    "        print(\"\\n--- ERGEBNIS ---\")\n",
    "        \n",
    "        # --- KORRIGIERTE STELLE ---\n",
    "        # Wir prüfen auf die leere Menge mit einem direkten Vergleich '==',\n",
    "        # da sp.EmptySet ein Objekt und kein Typ ist.\n",
    "        if nullstellen == sp.EmptySet:\n",
    "            print(\"Es wurden keine reellen Nullstellen gefunden.\")\n",
    "        \n",
    "        elif isinstance(nullstellen, sp.FiniteSet): # Dieser Teil ist korrekt\n",
    "            # Eine endliche Anzahl von Lösungen wurde gefunden\n",
    "            print(\"Gefundene reelle Nullstellen:\")\n",
    "            sp.pretty_print(list(nullstellen))\n",
    "            \n",
    "        else:\n",
    "            # Eine unendliche Lösungsmenge\n",
    "            print(\"Die Funktion hat unendlich viele reelle Nullstellen.\")\n",
    "            print(\"Die Lösungsmenge lautet:\")\n",
    "            sp.pretty_print(nullstellen)\n",
    "\n",
    "    except Exception as e:\n",
    "        print(f\"\\nEin Fehler ist aufgetreten: {e}\")\n",
    "    \n",
    "    print(\"-\" * 50 + \"\\n\")\n",
    "\n",
    "\n",
    "# --- Hauptteil des Programms (ohne Benutzereingabe) ---\n",
    "if __name__ == \"__main__\":\n",
    "    # Definiere die Variable, die in den Funktionen verwendet wird.\n",
    "    x = sp.Symbol('x')\n",
    "\n",
    "    # Ihre zu testende Funktion\n",
    "    funktionen_liste = [\n",
    "        -x**2 - x + 2\n",
    "    ]\n",
    "\n",
    "    print(\"=\"*50)\n",
    "    print(\"  Statischer Nullstellen-Rechner (Korrigierte Version)\")\n",
    "    print(\"=\"*50 + \"\\n\")\n",
    "\n",
    "    # Schleife durch die vordefinierte Liste und analysiere jede Funktion.\n",
    "    for funktion in funktionen_liste:\n",
    "        finde_nullstellen(funktion, x)"
   ]
  }
 ],
 "metadata": {
  "kernelspec": {
   "display_name": "Python 3",
   "language": "python",
   "name": "python3"
  },
  "language_info": {
   "codemirror_mode": {
    "name": "ipython",
    "version": 3
   },
   "file_extension": ".py",
   "mimetype": "text/x-python",
   "name": "python",
   "nbconvert_exporter": "python",
   "pygments_lexer": "ipython3",
   "version": "3.11.0"
  }
 },
 "nbformat": 4,
 "nbformat_minor": 2
}
