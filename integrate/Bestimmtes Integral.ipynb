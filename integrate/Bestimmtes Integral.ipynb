{
 "cells": [
  {
   "cell_type": "code",
   "execution_count": 1,
   "id": "876e01cc-6a8f-4bc4-a245-f7ff079bb368",
   "metadata": {},
   "outputs": [],
   "source": [
    "import numpy as np\n",
    "import matplotlib.pyplot as plt\n",
    "import sympy as sp"
   ]
  },
  {
   "cell_type": "code",
   "execution_count": 2,
   "id": "9db41571-770d-4a57-8acd-a6f6c078cac4",
   "metadata": {},
   "outputs": [
    {
     "data": {
      "image/png": "[encoded data removed]",
      "text/plain": [
       "<Figure size 432x288 with 1 Axes>"
      ]
     },
     "metadata": {
      "needs_background": "light"
     },
     "output_type": "display_data"
    }
   ],
   "source": [
    "x1 = np.linspace(-1.2, 0.2, 100) \n",
    "plt.plot(x1, x1**2 + 2 * x1, 'g', label=\"$x^2+2x$\")\n",
    "x2 = np.linspace(-0.2, 1.2, 100)\n",
    "plt.plot(x2, x2**2 - 2 * x2, 'b', label=\"$x^2-2x$\")\n",
    "x3 = np.linspace(-1.2, 1.2, 200)\n",
    "plt.plot(x3, x3**2 - 2, 'r', label=\"$x^2-2x$\")\n",
    "x1_ = np.linspace(-1, 0, 100)\n",
    "x2_ = np.linspace(0,  1, 100)\n",
    "plt.fill_between(x1_, x1_**2 + 2*x1_, x1_**2 - 2, color=\"gray\")\n",
    "plt.fill_between(x2_, x2_**2 - 2*x2_, x2_**2 - 2, color=\"gray\")\n",
    "plt.grid()\n",
    "plt.legend()\n",
    "plt.gca().set_aspect(1)"
   ]
  },
  {
   "cell_type": "code",
   "execution_count": 3,
   "id": "1de19470-7c96-4f94-bf63-51a17b7918e7",
   "metadata": {},
   "outputs": [],
   "source": [
    "# Flächeninhalt der grauen Fläche:"
   ]
  },
  {
   "cell_type": "code",
   "execution_count": 4,
   "id": "0d911797-7c8a-4311-8c19-e56a4dcc971f",
   "metadata": {},
   "outputs": [
    {
     "data": {
      "text/latex": [
       "$\\displaystyle - \\frac{2}{3}$"
      ],
      "text/plain": [
       "-2/3"
      ]
     },
     "metadata": {},
     "output_type": "display_data"
    },
    {
     "data": {
      "text/latex": [
       "$\\displaystyle - \\frac{2}{3}$"
      ],
      "text/plain": [
       "-2/3"
      ]
     },
     "metadata": {},
     "output_type": "display_data"
    },
    {
     "data": {
      "text/latex": [
       "$\\displaystyle \\frac{2}{3}$"
      ],
      "text/plain": [
       "2/3"
      ]
     },
     "metadata": {},
     "output_type": "display_data"
    },
    {
     "name": "stdout",
     "output_type": "stream",
     "text": [
      "Gesamtflächeninhalt: -2\n"
     ]
    }
   ],
   "source": [
    "x = sp.Symbol('x')\n",
    "A1 = sp.integrate(x**2+2*x, (x, -1, 0))\n",
    "display(A1)\n",
    "A2 = sp.integrate(x**2-2*x, (x,  0, 1))\n",
    "display(A2)\n",
    "A3 = sp.integrate(x**2-2*x, (x, -1, 1))\n",
    "display(A3)\n",
    "print(\"Gesamtflächeninhalt:\", A1 + A2 - A3)"
   ]
  },
  {
   "cell_type": "code",
   "execution_count": null,
   "id": "b152bdc7-bb5b-446b-9901-092775f7e0ef",
   "metadata": {},
   "outputs": [],
   "source": []
  }
 ],
 "metadata": {
  "kernelspec": {
   "display_name": "Python3",
   "language": "python",
   "name": "python3"
  },
  "language_info": {
   "codemirror_mode": {
    "name": "ipython",
    "version": 3
   },
   "file_extension": ".py",
   "mimetype": "text/x-python",
   "name": "python",
   "nbconvert_exporter": "python",
   "pygments_lexer": "ipython3",
   "version": "3.9.12"
  }
 },
 "nbformat": 4,
 "nbformat_minor": 5
}
