{
 "cells": [
  {
   "cell_type": "code",
   "execution_count": null,
   "metadata": {
    "vscode": {
     "languageId": "plaintext"
    }
   },
   "outputs": [],
   "source": [
    "In [1]: from sympy import *\n",
    "\n",
    "In [2]: x = Symbol('x')\n",
    "\n",
    "In [3]: integrate(x * exp(x), x)\n",
    "Out[3]: (x - 1)*exp(x)\n",
    "\n",
    "In [4]: integrate(x * sin(x), x)\n",
    "Out[4]: -x*cos(x) + sin(x)\n",
    "\n",
    "In [5]: integrate(x * cos(x), x)\n",
    "Out[5]: x*sin(x) + cos(x)\n",
    "\n",
    "In [6]: integrate(sin(x**2) * x, x)\n",
    "Out[6]: -cos(x**2)/2\n",
    "\n",
    "In [7]: integrate(sqrt(1+sin(x)) * cos(x), x)\n",
    "Out[7]: 2*sqrt(sin(x) + 1)*sin(x)/3 + 2*sqrt(sin(x) + 1)/3\n",
    "\n",
    "In [8]: integrate( (1+log(x))**3 / x, x)\n",
    "Out[8]: log(x)**4/4 + log(x)**3 + 3*log(x)**2/2 + log(x)\n",
    "\n",
    "In [9]: integrate(tan(x), x)\n",
    "Out[9]: -log(sin(x)**2 - 1)/2\n",
    "\n",
    "In [10]: integrate(sin(x) / cos(x), x)\n",
    "Out[10]: -log(sin(x)**2 - 1)/2\n",
    "\n",
    "In [11]: integrate(1 / (x * log(x)), x)\n",
    "Out[11]: log(log(x))"
   ]
  }
 ],
 "metadata": {
  "language_info": {
   "name": "python"
  }
 },
 "nbformat": 4,
 "nbformat_minor": 2
}
