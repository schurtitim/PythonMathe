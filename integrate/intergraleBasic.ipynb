{
 "cells": [
  {
   "cell_type": "code",
   "execution_count": 4,
   "metadata": {},
   "outputs": [
    {
     "name": "stdout",
     "output_type": "stream",
     "text": [
      "Die Stammfunktion von f(n) = log(n)/n ist F(n) =\n",
      "   2   \n",
      "log (n)\n",
      "───────\n",
      "   2   \n"
     ]
    }
   ],
   "source": [
    "import sympy as sp\n",
    "\n",
    "# Definiere das Symbol\n",
    "n = sp.Symbol(\"n\")\n",
    "\n",
    "# Definiere den Term. \n",
    "# Hinweis: 1 / n * log(n) ist dasselbe wie log(n) / n\n",
    "term = sp.log(n) / n\n",
    "\n",
    "terms = [\n",
    "    sp.cos(n),\n",
    "    sp.sin(n),\n",
    "    sp.cos(4*n + 5),\n",
    "    sp.sqrt(6 * n + 7)\n",
    "]\n",
    "\n",
    "\n",
    "\n",
    "# Korrigierter Funktionsname: sp.integrate()\n",
    "stammfunktion = sp.integrate(term, n)\n",
    "\n",
    "# Gib das Ergebnis aus\n",
    "print(f\"Die Stammfunktion von f(n) = {term} ist F(n) =\")\n",
    "sp.pretty_print(stammfunktion)"
   ]
  }
 ],
 "metadata": {
  "kernelspec": {
   "display_name": "Python 3",
   "language": "python",
   "name": "python3"
  },
  "language_info": {
   "codemirror_mode": {
    "name": "ipython",
    "version": 3
   },
   "file_extension": ".py",
   "mimetype": "text/x-python",
   "name": "python",
   "nbconvert_exporter": "python",
   "pygments_lexer": "ipython3",
   "version": "3.11.0"
  }
 },
 "nbformat": 4,
 "nbformat_minor": 2
}
