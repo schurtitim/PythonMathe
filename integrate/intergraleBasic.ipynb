{
 "cells": [
  {
   "cell_type": "code",
   "execution_count": 3,
   "metadata": {},
   "outputs": [
    {
     "ename": "AttributeError",
     "evalue": "module 'sympy' has no attribute 'intergrate'",
     "output_type": "error",
     "traceback": [
      "\u001b[31m---------------------------------------------------------------------------\u001b[39m",
      "\u001b[31mAttributeError\u001b[39m                            Traceback (most recent call last)",
      "\u001b[36mCell\u001b[39m\u001b[36m \u001b[39m\u001b[32mIn[3]\u001b[39m\u001b[32m, line 7\u001b[39m\n\u001b[32m      3\u001b[39m n = sp.Symbol(\u001b[33m\"\u001b[39m\u001b[33mn\u001b[39m\u001b[33m\"\u001b[39m);\n\u001b[32m      5\u001b[39m term = \u001b[32m1\u001b[39m / n * sp.log(n)\n\u001b[32m----> \u001b[39m\u001b[32m7\u001b[39m \u001b[43msp\u001b[49m\u001b[43m.\u001b[49m\u001b[43mintergrate\u001b[49m(term, n)\n",
      "\u001b[31mAttributeError\u001b[39m: module 'sympy' has no attribute 'intergrate'"
     ]
    }
   ],
   "source": [
    "import sympy as sp\n",
    "\n",
    "# Definiere das Symbol\n",
    "n = sp.Symbol(\"n\")\n",
    "\n",
    "# Definiere den Term. \n",
    "# Hinweis: 1 / n * log(n) ist dasselbe wie log(n) / n\n",
    "term = sp.log(n) / n\n",
    "\n",
    "# Korrigierter Funktionsname: sp.integrate()\n",
    "stammfunktion = sp.integrate(term, n)\n",
    "\n",
    "# Gib das Ergebnis aus\n",
    "print(f\"Die Stammfunktion von f(n) = {term} ist F(n) =\")\n",
    "sp.pretty_print(stammfunktion)"
   ]
  }
 ],
 "metadata": {
  "kernelspec": {
   "display_name": "Python 3",
   "language": "python",
   "name": "python3"
  },
  "language_info": {
   "codemirror_mode": {
    "name": "ipython",
    "version": 3
   },
   "file_extension": ".py",
   "mimetype": "text/x-python",
   "name": "python",
   "nbconvert_exporter": "python",
   "pygments_lexer": "ipython3",
   "version": "3.11.0"
  }
 },
 "nbformat": 4,
 "nbformat_minor": 2
}
