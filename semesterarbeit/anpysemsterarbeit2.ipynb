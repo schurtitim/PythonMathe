{
 "cells": [
  {
   "cell_type": "markdown",
   "metadata": {},
   "source": [
    "# Analyse der allgemeinen harmonischen Reihe"
   ]
  },
  {
   "cell_type": "code",
   "execution_count": 1,
   "metadata": {},
   "outputs": [],
   "source": [
    "import numpy as np\n",
    "import matplotlib.pyplot as plt"
   ]
  },
  {
   "cell_type": "markdown",
   "metadata": {},
   "source": [
    "## Grundlagenkapitel: Allgemeine harmonische Reihe\n",
    "Die allgemeine harmonische Reihe ist definiert als:\n",
    "∑ (1/n^p), wobei n > 0 und n ∈ N.\n",
    "Für p > 1 konvergiert die Reihe, für p <= 1 divergiert sie."
   ]
  },
  {
   "cell_type": "code",
   "execution_count": 2,
   "metadata": {},
   "outputs": [
    {
     "ename": "SyntaxError",
     "evalue": "incomplete input (4118880487.py, line 1)",
     "output_type": "error",
     "traceback": [
      "  \u001b[36mCell\u001b[39m\u001b[36m \u001b[39m\u001b[32mIn[2]\u001b[39m\u001b[32m, line 1\u001b[39m\n\u001b[31m    \u001b[39m\u001b[31mdef allgemeine_harmonische_reihe_teilsumme(p, n):\u001b[39m\n                                                     ^\n\u001b[31mSyntaxError\u001b[39m\u001b[31m:\u001b[39m incomplete input\n"
     ]
    }
   ],
   "source": [
    "def allgemeine_harmonische_reihe_teilsumme(p, n):\n"
   ]
  },
  {
   "cell_type": "markdown",
   "metadata": {},
   "source": [
    "\n",
    "    Berechnet die Teilsumme der allgemeinen harmonischen Reihe.\n",
    "\n",
    "    Args:\n",
    "        p (float): Exponent der Reihe.\n",
    "        n (int): Anzahl der Summenglieder.\n",
    "\n",
    "    Returns:\n",
    "        float: Teilsumme."
   ]
  },
  {
   "cell_type": "code",
   "execution_count": null,
   "metadata": {},
   "outputs": [],
   "source": [
    "np.sum(1 / np.arange(1, n + 1)**p)"
   ]
  },
  {
   "cell_type": "markdown",
   "metadata": {},
   "source": [
    "# Visualisierung des Konvergenz-/Divergenzverhaltens"
   ]
  },
  {
   "cell_type": "code",
   "execution_count": 3,
   "metadata": {},
   "outputs": [
    {
     "ename": "NameError",
     "evalue": "name 'allgemeine_harmonische_reihe_teilsumme' is not defined",
     "output_type": "error",
     "traceback": [
      "\u001b[31m---------------------------------------------------------------------------\u001b[39m",
      "\u001b[31mNameError\u001b[39m                                 Traceback (most recent call last)",
      "\u001b[36mCell\u001b[39m\u001b[36m \u001b[39m\u001b[32mIn[3]\u001b[39m\u001b[32m, line 6\u001b[39m\n\u001b[32m      4\u001b[39m plt.figure(figsize=(\u001b[32m10\u001b[39m, \u001b[32m6\u001b[39m))\n\u001b[32m      5\u001b[39m \u001b[38;5;28;01mfor\u001b[39;00m p \u001b[38;5;129;01min\u001b[39;00m p_werte:\n\u001b[32m----> \u001b[39m\u001b[32m6\u001b[39m     teilsummen = \u001b[43m[\u001b[49m\u001b[43mallgemeine_harmonische_reihe_teilsumme\u001b[49m\u001b[43m(\u001b[49m\u001b[43mp\u001b[49m\u001b[43m,\u001b[49m\u001b[43m \u001b[49m\u001b[43mn\u001b[49m\u001b[43m)\u001b[49m\u001b[43m \u001b[49m\u001b[38;5;28;43;01mfor\u001b[39;49;00m\u001b[43m \u001b[49m\u001b[43mn\u001b[49m\u001b[43m \u001b[49m\u001b[38;5;129;43;01min\u001b[39;49;00m\u001b[43m \u001b[49m\u001b[43mn_werte\u001b[49m\u001b[43m]\u001b[49m\n\u001b[32m      7\u001b[39m     plt.plot(n_werte, teilsummen, label=\u001b[33mf\u001b[39m\u001b[33m'\u001b[39m\u001b[33mp = \u001b[39m\u001b[38;5;132;01m{\u001b[39;00mp\u001b[38;5;132;01m}\u001b[39;00m\u001b[33m'\u001b[39m)\n\u001b[32m      9\u001b[39m plt.xlabel(\u001b[33m'\u001b[39m\u001b[33mAnzahl der Summenglieder (n)\u001b[39m\u001b[33m'\u001b[39m)\n",
      "\u001b[36mCell\u001b[39m\u001b[36m \u001b[39m\u001b[32mIn[3]\u001b[39m\u001b[32m, line 6\u001b[39m, in \u001b[36m<listcomp>\u001b[39m\u001b[34m(.0)\u001b[39m\n\u001b[32m      4\u001b[39m plt.figure(figsize=(\u001b[32m10\u001b[39m, \u001b[32m6\u001b[39m))\n\u001b[32m      5\u001b[39m \u001b[38;5;28;01mfor\u001b[39;00m p \u001b[38;5;129;01min\u001b[39;00m p_werte:\n\u001b[32m----> \u001b[39m\u001b[32m6\u001b[39m     teilsummen = [\u001b[43mallgemeine_harmonische_reihe_teilsumme\u001b[49m(p, n) \u001b[38;5;28;01mfor\u001b[39;00m n \u001b[38;5;129;01min\u001b[39;00m n_werte]\n\u001b[32m      7\u001b[39m     plt.plot(n_werte, teilsummen, label=\u001b[33mf\u001b[39m\u001b[33m'\u001b[39m\u001b[33mp = \u001b[39m\u001b[38;5;132;01m{\u001b[39;00mp\u001b[38;5;132;01m}\u001b[39;00m\u001b[33m'\u001b[39m)\n\u001b[32m      9\u001b[39m plt.xlabel(\u001b[33m'\u001b[39m\u001b[33mAnzahl der Summenglieder (n)\u001b[39m\u001b[33m'\u001b[39m)\n",
      "\u001b[31mNameError\u001b[39m: name 'allgemeine_harmonische_reihe_teilsumme' is not defined"
     ]
    },
    {
     "data": {
      "text/plain": [
       "<Figure size 1000x600 with 0 Axes>"
      ]
     },
     "metadata": {},
     "output_type": "display_data"
    }
   ],
   "source": [
    "p_werte = [0.5, 1, 1.5, 2]  # Geeignete p-Werte auswählen\n",
    "n_werte = np.arange(1, 1001)  # Anzahl der Summenglieder\n",
    "\n",
    "plt.figure(figsize=(10, 6))\n",
    "for p in p_werte:\n",
    "    teilsummen = [allgemeine_harmonische_reihe_teilsumme(p, n) for n in n_werte]\n",
    "    plt.plot(n_werte, teilsummen, label=f'p = {p}')\n",
    "\n",
    "plt.xlabel('Anzahl der Summenglieder (n)')\n",
    "plt.ylabel('Teilsumme')\n",
    "plt.title('Konvergenz/Divergenz der allgemeinen harmonischen Reihe')\n",
    "plt.legend()\n",
    "plt.grid(True)\n",
    "plt.show()"
   ]
  },
  {
   "cell_type": "code",
   "execution_count": 4,
   "metadata": {},
   "outputs": [],
   "source": [
    "# Konvergenzgeschwindigkeit quantitativ untersuchen (für p > 1)\n",
    "def konvergenzgeschwindigkeit(p, n_werte):\n",
    "    \"\"\"\n",
    "    Berechnet die Differenz zwischen der Teilsumme und dem Grenzwert (approximiert).\n",
    "\n",
    "    Args:\n",
    "        p (float): Exponent der Reihe (p > 1).\n",
    "        n_werte (list): Liste der Anzahl der Summenglieder.\n",
    "\n",
    "    Returns:\n",
    "        list: Liste der Differenzen.\n",
    "    \"\"\"\n",
    "    grenzwert = allgemeine_harmonische_reihe_teilsumme(\n",
    "        p, 10000\n",
    "    )  # Approximierter Grenzwert\n",
    "    return [\n",
    "        abs(allgemeine_harmonische_reihe_teilsumme(p, n) - grenzwert)\n",
    "        for n in n_werte\n",
    "    ]"
   ]
  },
  {
   "cell_type": "code",
   "execution_count": null,
   "metadata": {},
   "outputs": [],
   "source": [
    "p_werte_konvergenz = [1.5, 2, 3]  # p-Werte für Konvergenzbetrachtung\n",
    "plt.figure(figsize=(10, 6))\n",
    "for p in p_werte_konvergenz:\n",
    "    diff = konvergenzgeschwindigkeit(p, n_werte)\n",
    "    plt.plot(n_werte, diff, label=f'p = {p}')\n",
    "\n",
    "plt.xlabel('Anzahl der Summenglieder (n)')\n",
    "plt.ylabel('Differenz zum Grenzwert')\n",
    "plt.title('Konvergenzgeschwindigkeit der allgemeinen harmonischen Reihe (p > 1)')\n",
    "plt.yscale('log')  # Logarithmische Skala für bessere Darstellung\n",
    "plt.legend()\n",
    "plt.grid(True)\n",
    "plt.show()"
   ]
  },
  {
   "cell_type": "code",
   "execution_count": null,
   "metadata": {},
   "outputs": [],
   "source": [
    "# Divergenzverhalten der harmonischen Reihe (p = 1)\n",
    "# Begründung: Die harmonische Reihe divergiert logarithmisch, daher O(log(n)).\n",
    "# Berechnung der harmonischen Reihenteilsummen.\n",
    "harmonische_reihe_werte = [\n",
    "    allgemeine_harmonische_reihe_teilsumme(1, wert) for wert in n_werte\n",
    "]\n",
    "# Berechnung der Logarithmus Werte\n",
    "log_n_werte = [np.log(wert) for wert in n_werte]\n",
    "\n",
    "plt.figure(figsize=(10, 6))\n",
    "# Visualisierung\n",
    "plt.plot(n_werte, harmonische_reihe_werte, label=\"Harmonische Reihe\")\n",
    "plt.plot(n_werte, log_n_werte, label=\"log(n)\")\n",
    "plt.xlabel(\"n\")\n",
    "plt.ylabel(\"Wert\")\n",
    "plt.title(\"Vergleich harmonische Reihe und log(n)\")\n",
    "plt.legend()\n",
    "plt.grid(True)\n",
    "plt.show()"
   ]
  },
  {
   "cell_type": "markdown",
   "metadata": {},
   "source": [
    "## Beobachtungen:\n",
    "\n",
    "- Für p <= 1 divergiert die Reihe, für p > 1 konvergiert sie.\n",
    "- Die Konvergenzgeschwindigkeit für p > 1 nimmt mit steigendem p zu.\n",
    "- Die harmonische Reihe (p = 1) divergiert logarithmisch (O(log(n)))."
   ]
  }
 ],
 "metadata": {
  "kernelspec": {
   "display_name": "Python 3",
   "language": "python",
   "name": "python3"
  },
  "language_info": {
   "codemirror_mode": {
    "name": "ipython",
    "version": 3
   },
   "file_extension": ".py",
   "mimetype": "text/x-python",
   "name": "python",
   "nbconvert_exporter": "python",
   "pygments_lexer": "ipython3",
   "version": "3.11.0"
  }
 },
 "nbformat": 4,
 "nbformat_minor": 2
}
