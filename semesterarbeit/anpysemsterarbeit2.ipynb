{
 "cells": [
  {
   "cell_type": "markdown",
   "metadata": {},
   "source": [
    "# Analyse der allgemeinen harmonischen Reihe"
   ]
  },
  {
   "cell_type": "code",
   "execution_count": null,
   "metadata": {},
   "outputs": [],
   "source": [
    "import numpy as np\n",
    "import matplotlib.pyplot as plt"
   ]
  },
  {
   "cell_type": "markdown",
   "metadata": {},
   "source": [
    "## Grundlagenkapitel: Allgemeine harmonische Reihe\n",
    "Die allgemeine harmonische Reihe ist definiert als:\n",
    "∑ (1/n^p), wobei n > 0 und n ∈ N.\n",
    "Für p > 1 konvergiert die Reihe, für p <= 1 divergiert sie."
   ]
  },
  {
   "cell_type": "code",
   "execution_count": null,
   "metadata": {},
   "outputs": [],
   "source": [
    "def allgemeine_harmonische_reihe_teilsumme(p, n):\n"
   ]
  },
  {
   "cell_type": "markdown",
   "metadata": {},
   "source": [
    "\n",
    "    Berechnet die Teilsumme der allgemeinen harmonischen Reihe.\n",
    "\n",
    "    Args:\n",
    "        p (float): Exponent der Reihe.\n",
    "        n (int): Anzahl der Summenglieder.\n",
    "\n",
    "    Returns:\n",
    "        float: Teilsumme."
   ]
  },
  {
   "cell_type": "code",
   "execution_count": null,
   "metadata": {},
   "outputs": [],
   "source": [
    "    return np.sum(1 / np.arange(1, n + 1)**p)"
   ]
  },
  {
   "cell_type": "markdown",
   "metadata": {},
   "source": [
    "# Visualisierung des Konvergenz-/Divergenzverhaltens"
   ]
  },
  {
   "cell_type": "code",
   "execution_count": null,
   "metadata": {},
   "outputs": [],
   "source": [
    "p_werte = [0.5, 1, 1.5, 2]  # Geeignete p-Werte auswählen\n",
    "n_werte = np.arange(1, 1001)  # Anzahl der Summenglieder\n",
    "\n",
    "plt.figure(figsize=(10, 6))\n",
    "for p in p_werte:\n",
    "    teilsummen = [allgemeine_harmonische_reihe_teilsumme(p, n) for n in n_werte]\n",
    "    plt.plot(n_werte, teilsummen, label=f'p = {p}')\n",
    "\n",
    "plt.xlabel('Anzahl der Summenglieder (n)')\n",
    "plt.ylabel('Teilsumme')\n",
    "plt.title('Konvergenz/Divergenz der allgemeinen harmonischen Reihe')\n",
    "plt.legend()\n",
    "plt.grid(True)\n",
    "plt.show()"
   ]
  },
  {
   "cell_type": "code",
   "execution_count": null,
   "metadata": {},
   "outputs": [],
   "source": [
    "# Konvergenzgeschwindigkeit quantitativ untersuchen (für p > 1)\n",
    "def konvergenzgeschwindigkeit(p, n_werte):\n",
    "    \"\"\"\n",
    "    Berechnet die Differenz zwischen der Teilsumme und dem Grenzwert (approximiert).\n",
    "\n",
    "    Args:\n",
    "        p (float): Exponent der Reihe (p > 1).\n",
    "        n_werte (list): Liste der Anzahl der Summenglieder.\n",
    "\n",
    "    Returns:\n",
    "        list: Liste der Differenzen.\n",
    "    \"\"\"\n",
    "    grenzwert = allgemeine_harmonische_reihe_teilsumme(\n",
    "        p, 10000\n",
    "    )  # Approximierter Grenzwert\n",
    "    return [\n",
    "        abs(allgemeine_harmonische_reihe_teilsumme(p, n) - grenzwert)\n",
    "        for n in n_werte\n",
    "    ]"
   ]
  },
  {
   "cell_type": "code",
   "execution_count": null,
   "metadata": {},
   "outputs": [],
   "source": [
    "p_werte_konvergenz = [1.5, 2, 3]  # p-Werte für Konvergenzbetrachtung\n",
    "plt.figure(figsize=(10, 6))\n",
    "for p in p_werte_konvergenz:\n",
    "    diff = konvergenzgeschwindigkeit(p, n_werte)\n",
    "    plt.plot(n_werte, diff, label=f'p = {p}')\n",
    "\n",
    "plt.xlabel('Anzahl der Summenglieder (n)')\n",
    "plt.ylabel('Differenz zum Grenzwert')\n",
    "plt.title('Konvergenzgeschwindigkeit der allgemeinen harmonischen Reihe (p > 1)')\n",
    "plt.yscale('log')  # Logarithmische Skala für bessere Darstellung\n",
    "plt.legend()\n",
    "plt.grid(True)\n",
    "plt.show()"
   ]
  },
  {
   "cell_type": "code",
   "execution_count": null,
   "metadata": {},
   "outputs": [],
   "source": [
    "# Divergenzverhalten der harmonischen Reihe (p = 1)\n",
    "# Begründung: Die harmonische Reihe divergiert logarithmisch, daher O(log(n)).\n",
    "# Berechnung der harmonischen Reihenteilsummen.\n",
    "harmonische_reihe_werte = [\n",
    "    allgemeine_harmonische_reihe_teilsumme(1, wert) for wert in n_werte\n",
    "]\n",
    "# Berechnung der Logarithmus Werte\n",
    "log_n_werte = [np.log(wert) for wert in n_werte]\n",
    "\n",
    "plt.figure(figsize=(10, 6))\n",
    "# Visualisierung\n",
    "plt.plot(n_werte, harmonische_reihe_werte, label=\"Harmonische Reihe\")\n",
    "plt.plot(n_werte, log_n_werte, label=\"log(n)\")\n",
    "plt.xlabel(\"n\")\n",
    "plt.ylabel(\"Wert\")\n",
    "plt.title(\"Vergleich harmonische Reihe und log(n)\")\n",
    "plt.legend()\n",
    "plt.grid(True)\n",
    "plt.show()"
   ]
  },
  {
   "cell_type": "markdown",
   "metadata": {},
   "source": [
    "## Beobachtungen:\n",
    "\n",
    "- Für p <= 1 divergiert die Reihe, für p > 1 konvergiert sie.\n",
    "- Die Konvergenzgeschwindigkeit für p > 1 nimmt mit steigendem p zu.\n",
    "- Die harmonische Reihe (p = 1) divergiert logarithmisch (O(log(n)))."
   ]
  }
 ],
 "metadata": {
  "language_info": {
   "name": "python"
  }
 },
 "nbformat": 4,
 "nbformat_minor": 2
}
