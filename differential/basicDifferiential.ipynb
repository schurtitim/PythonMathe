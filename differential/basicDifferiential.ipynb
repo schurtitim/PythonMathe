{
 "cells": [
  {
   "cell_type": "code",
   "execution_count": 15,
   "metadata": {},
   "outputs": [
    {
     "name": "stdout",
     "output_type": "stream",
     "text": [
      "Die Ableitung von p = sqrt(q(x)) ist:\n",
      " d        \n",
      " ──(q(x)) \n",
      " dx       \n",
      "──────────\n",
      "    ______\n",
      "2⋅╲╱ q(x) \n",
      "--------------------\n",
      "Die Ableitung von r = log(q(x)) ist:\n",
      "d       \n",
      "──(q(x))\n",
      "dx      \n",
      "────────\n",
      "  q(x)  \n",
      "--------------------\n",
      "Die Ableitung von s = x**x ist:\n",
      " x             \n",
      "x ⋅(log(x) + 1)\n"
     ]
    }
   ],
   "source": [
    "# Es ist gute Praxis, die benötigten Funktionen explizit zu importieren.\n",
    "from sympy import Symbol, diff, sin, cos, tan, cot, log, sqrt, exp, Function, pretty_print\n",
    "\n",
    "# --- Definition der Symbole ---\n",
    "x = Symbol('x')\n",
    "a = Symbol('a')\n",
    "\n",
    "# --- Ableitung von p = sqrt(q(x)) ---\n",
    "# Korrektur: q wird als Funktion definiert\n",
    "q = Function('q') \n",
    "p = sqrt(q(x))\n",
    "print(\"Die Ableitung von p = sqrt(q(x)) ist:\")\n",
    "pretty_print(diff(p, x))\n",
    "print(\"-\" * 20)\n",
    "\n",
    "# --- Ableitung von r = log(q(x)) ---\n",
    "r = log(q(x))\n",
    "print(\"Die Ableitung von r = log(q(x)) ist:\")\n",
    "pretty_print(diff(r,x))\n",
    "print(\"-\" * 20)\n",
    "\n",
    "# --- Ableitung von s = x**x ---\n",
    "# Diese Funktion war korrekt und funktioniert wie erwartet.\n",
    "s = x ** x\n",
    "print(\"Die Ableitung von s = x**x ist:\")\n",
    "pretty_print(diff(s, x))"
   ]
  }
 ],
 "metadata": {
  "kernelspec": {
   "display_name": "Python 3",
   "language": "python",
   "name": "python3"
  },
  "language_info": {
   "codemirror_mode": {
    "name": "ipython",
    "version": 3
   },
   "file_extension": ".py",
   "mimetype": "text/x-python",
   "name": "python",
   "nbconvert_exporter": "python",
   "pygments_lexer": "ipython3",
   "version": "3.11.0"
  }
 },
 "nbformat": 4,
 "nbformat_minor": 2
}
