{
 "cells": [
  {
   "cell_type": "code",
   "execution_count": null,
   "metadata": {},
   "outputs": [
    {
     "name": "stdout",
     "output_type": "stream",
     "text": [
      "Derivative(a(x), x)/(2*sqrt(a(x)))\n"
     ]
    },
    {
     "data": {
      "text/latex": [
       "$\\displaystyle x^{x} \\left(\\log{\\left(x \\right)} + 1\\right)$"
      ],
      "text/plain": [
       "x**x*(log(x) + 1)"
      ]
     },
     "execution_count": 32,
     "metadata": {},
     "output_type": "execute_result"
    }
   ],
   "source": [
    "from sympy import Symbol, Function, diff, tan, cot, sqrt, log, sin, cos\n",
    "\n",
    "# --- Variable and Constant Definitions ---\n",
    "x = Symbol('x')\n",
    "a = Symbol('a') # Represents a constant\n",
    "\n",
    "# --- Basic Polynomial ---\n",
    "# f(x) = 10x^3 + 20x + 30\n",
    "f = 10*x**3 + 20*x + 30\n",
    "print(f\"The derivative of f = {f} is: {diff(f, x)}\")\n",
    "\n",
    "# --- Product Rule ---\n",
    "# g(x) = x^2 * sin(x)\n",
    "g = x**2 * sin(x)\n",
    "print(f\"The derivative of g = {g} is: {diff(g, x)}\")\n",
    "\n",
    "# --- Quotient Rule ---\n",
    "# h(x) = (x^2 + 1) / (x^3 + 1)\n",
    "h = (x**2 + 1) / (x**3 + 1)\n",
    "print(f\"The derivative of h = {h} is: {diff(h, x)}\")\n",
    "\n",
    "# --- Trigonometric Functions ---\n",
    "print(f\"The derivative of tan(x) is: {diff(tan(x), x)}\")\n",
    "print(f\"The derivative of cot(x) is: {diff(cot(x), x)}\")\n",
    "\n",
    "# --- Exponential and Logarithmic Functions ---\n",
    "# k(x) = a^x\n",
    "k = a**x\n",
    "print(f\"The derivative of k = {k} is: {diff(k, x)}\")\n",
    "\n",
    "# ell(x) = log_a(x)\n",
    "ell = log(x, a)\n",
    "print(f\"The derivative of ell = {ell} is: {diff(ell, x)}\")\n",
    "\n",
    "# m(x) = log_x(a)\n",
    "m = log(a, x)\n",
    "print(f\"The derivative of m = {m} is: {diff(m, x)}\")\n",
    "\n",
    "# --- Chain Rule ---\n",
    "# n(x) = cos(x^2)\n",
    "n = cos(x**2)\n",
    "print(f\"The derivative of n = {n} is: {diff(n, x)}\")\n",
    "\n",
    "# --- Corrected Part: Using Function for q(x) ---\n",
    "# To represent an undefined function like q(x), you must use Function, not Symbol.\n",
    "# A Symbol 'q' is a variable, which cannot be \"called\" like q(x).\n",
    "q = Function('q')\n",
    "\n",
    "# p(x) = sqrt(q(x))\n",
    "p = sqrt(q(x))\n",
    "print(f\"The derivative of p = {p} is: {diff(p, x)}\")\n",
    "\n",
    "# r(x) = log(q(x))\n",
    "r = log(q(x))\n",
    "print(f\"The derivative of r = {r} is: {diff(r, x)}\")\n",
    "\n",
    "# --- Logarithmic Differentiation ---\n",
    "# s(x) = x^x\n",
    "s = x ** x\n",
    "print(f\"The derivative of s = {s} is: {diff(s, x)}\")\n"
   ]
  }
 ],
 "metadata": {
  "kernelspec": {
   "display_name": "Python 3",
   "language": "python",
   "name": "python3"
  },
  "language_info": {
   "codemirror_mode": {
    "name": "ipython",
    "version": 3
   },
   "file_extension": ".py",
   "mimetype": "text/x-python",
   "name": "python",
   "nbconvert_exporter": "python",
   "pygments_lexer": "ipython3",
   "version": "3.11.0"
  }
 },
 "nbformat": 4,
 "nbformat_minor": 2
}
