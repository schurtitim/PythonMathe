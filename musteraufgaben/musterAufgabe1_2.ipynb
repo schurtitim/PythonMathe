{
 "cells": [
  {
   "cell_type": "code",
   "execution_count": 1,
   "metadata": {},
   "outputs": [
    {
     "name": "stdout",
     "output_type": "stream",
     "text": [
      "--- Symbolische Lösung mit SymPy ---\n",
      "Die von SymPy gefundene direkte Formel ist: q(n) = n**2\n",
      "Das Ergebnis entspricht der erwarteten Formel n**2.\n"
     ]
    }
   ],
   "source": [
    "# CODE FÜR VARIANTE 2\n",
    "\n",
    "from sympy import Function, rsolve, Symbol\n",
    "\n",
    "def loese_rekursion_symbolisch():\n",
    "    \"\"\"\n",
    "    Löst die Rekursionsgleichung q(n) = q(n-1) + 2n - 1 mit q(0)=0\n",
    "    symbolisch mit der SymPy-Bibliothek.\n",
    "    \"\"\"\n",
    "    try:\n",
    "        # Definiere n als ein symbolisches Objekt\n",
    "        n = Symbol('n', integer=True)\n",
    "        \n",
    "        # Definiere q als eine symbolische Funktion\n",
    "        q = Function('q')\n",
    "        \n",
    "        # Definiere die Rekursionsgleichung in der Form f(n) = 0\n",
    "        # q(n) - q(n-1) - (2n - 1) = 0\n",
    "        rekursionsgleichung = q(n) - q(n-1) - (2*n - 1)\n",
    "        \n",
    "        # Definiere die Anfangsbedingung\n",
    "        anfangsbedingung = {q(0): 0}\n",
    "        \n",
    "        # Löse die Gleichung\n",
    "        direkte_formel = rsolve(\n",
    "            rekursionsgleichung,\n",
    "            q(n),\n",
    "            anfangsbedingung\n",
    "        )\n",
    "        \n",
    "        return direkte_formel\n",
    "    except Exception as e:\n",
    "        return f\"Ein Fehler ist aufgetreten: {e}\"\n",
    "\n",
    "# --- Hauptteil des Skripts ---\n",
    "print(\"--- Symbolische Lösung mit SymPy ---\")\n",
    "\n",
    "# Rufe die Lösungsfunktion auf und gib das Ergebnis aus\n",
    "ergebnis = loese_rekursion_symbolisch()\n",
    "\n",
    "print(f\"Die von SymPy gefundene direkte Formel ist: q(n) = {ergebnis}\")\n",
    "\n",
    "# Überprüfen, ob das Ergebnis n**2 ist\n",
    "n_sym = Symbol('n', integer=True)\n",
    "if ergebnis == n_sym**2:\n",
    "    print(\"Das Ergebnis entspricht der erwarteten Formel n**2.\")"
   ]
  }
 ],
 "metadata": {
  "kernelspec": {
   "display_name": "Python 3",
   "language": "python",
   "name": "python3"
  },
  "language_info": {
   "codemirror_mode": {
    "name": "ipython",
    "version": 3
   },
   "file_extension": ".py",
   "mimetype": "text/x-python",
   "name": "python",
   "nbconvert_exporter": "python",
   "pygments_lexer": "ipython3",
   "version": "3.11.0"
  }
 },
 "nbformat": 4,
 "nbformat_minor": 2
}
